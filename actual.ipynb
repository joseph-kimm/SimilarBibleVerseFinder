{
 "cells": [
  {
   "cell_type": "markdown",
   "id": "786e4d9f",
   "metadata": {},
   "source": [
    "# Playing with the DataSet"
   ]
  },
  {
   "cell_type": "markdown",
   "id": "7c8ebe9f",
   "metadata": {},
   "source": [
    "### Creating Sample File"
   ]
  },
  {
   "cell_type": "code",
   "execution_count": 1,
   "id": "db129013",
   "metadata": {},
   "outputs": [],
   "source": [
    "import pandas as pd\n",
    "import random\n",
    "import csv"
   ]
  },
  {
   "cell_type": "code",
   "execution_count": 2,
   "id": "a0df278e",
   "metadata": {},
   "outputs": [],
   "source": [
    "bible_data = pd.read_csv('datasets/bible_data.csv')\n",
    "size = len(bible_data)"
   ]
  },
  {
   "cell_type": "markdown",
   "id": "311f9dbd",
   "metadata": {},
   "source": [
    "### Creating sentence embedding"
   ]
  },
  {
   "cell_type": "markdown",
   "id": "a83ed4d5",
   "metadata": {},
   "source": [
    "We are not going to care about efficiency, but just do it\n",
    "Because there is already a library called SentenceTransformer, we are not going to be bothered using deBERTa. If we need to do more customizing, we can always do it later."
   ]
  },
  {
   "cell_type": "code",
   "execution_count": null,
   "id": "0975aa21",
   "metadata": {},
   "outputs": [
    {
     "name": "stderr",
     "output_type": "stream",
     "text": [
      "/usr/local/python/3.12.1/lib/python3.12/site-packages/tqdm/auto.py:21: TqdmWarning: IProgress not found. Please update jupyter and ipywidgets. See https://ipywidgets.readthedocs.io/en/stable/user_install.html\n",
      "  from .autonotebook import tqdm as notebook_tqdm\n"
     ]
    }
   ],
   "source": [
    "from transformers import AutoTokenizer, AutoModel\n",
    "import torch\n",
    "from sentence_transformers import SentenceTransformer\n",
    "import numpy as np\n",
    "from tqdm import tqdm"
   ]
  },
  {
   "cell_type": "code",
   "execution_count": null,
   "id": "76ffcb7d",
   "metadata": {},
   "outputs": [
    {
     "name": "stderr",
     "output_type": "stream",
     "text": [
      "/home/codespace/.local/lib/python3.12/site-packages/torch/nn/modules/module.py:1762: FutureWarning: `encoder_attention_mask` is deprecated and will be removed in version 4.55.0 for `BertSdpaSelfAttention.forward`.\n",
      "  return forward_call(*args, **kwargs)\n"
     ]
    }
   ],
   "source": [
    "model = SentenceTransformer('all-MiniLM-L12-v2')\n",
    "embeddings = np.array(model.encode(bible_data['text'], show_progress_bar=True))\n",
    "\n",
    "# saving the numbers so it can be loaded up easily later\n",
    "np.savez('datasets/bible_embeddings.npz', embeddings=embeddings, ids=bible_data['id'].values)"
   ]
  },
  {
   "cell_type": "code",
   "execution_count": 6,
   "id": "18d1dea8",
   "metadata": {},
   "outputs": [
    {
     "name": "stdout",
     "output_type": "stream",
     "text": [
      "-0.3130233585834503\n",
      "Leviticus 24:3\n"
     ]
    }
   ],
   "source": [
    "print(-float(model.similarity(embeddings[0], embeddings[1])))\n",
    "print(sample_data['citation'][1])"
   ]
  },
  {
   "cell_type": "markdown",
   "id": "cb5cf4e2",
   "metadata": {},
   "source": [
    "### Using Sentence Embedding to compare each other"
   ]
  },
  {
   "cell_type": "code",
   "execution_count": 7,
   "id": "428296ad",
   "metadata": {},
   "outputs": [],
   "source": [
    "import heapq\n",
    "from collections import defaultdict"
   ]
  },
  {
   "cell_type": "code",
   "execution_count": 8,
   "id": "02c34460",
   "metadata": {},
   "outputs": [
    {
     "name": "stdout",
     "output_type": "stream",
     "text": [
      "defaultdict(<class 'list'>, {})\n"
     ]
    }
   ],
   "source": [
    "# we are going to store top 10 similar verses for each verse\n",
    "# also save top 100 similar verses in a list\n",
    "\n",
    "# make sure that a separate list is created for each verse\n",
    "verses_top = defaultdict(list)\n",
    "overall_top = []\n",
    "\n",
    "print(verses_top)\n",
    "\n",
    "embeddings = np.load('datasets/sample_bible_embeddings.npy')"
   ]
  },
  {
   "cell_type": "code",
   "execution_count": 9,
   "id": "5dce6049",
   "metadata": {},
   "outputs": [],
   "source": [
    "greatest_similarity = -1.0\n",
    "smallest_similarity = 1.0\n",
    "\n",
    "# comparing each verse with every other verse\n",
    "for i in range(len(sample_data)):\n",
    "\n",
    "    verse1 = sample_data['citation'][i]\n",
    "\n",
    "    for j in range(i + 1, len(sample_data)):\n",
    "        similarity = float(model.similarity(embeddings[i], embeddings[j]))\n",
    "\n",
    "        verse2 = sample_data['citation'][j]\n",
    "\n",
    "        greatest_similarity = max(greatest_similarity, similarity)\n",
    "        smallest_similarity = min(smallest_similarity, similarity)\n",
    "\n",
    "        # we keep adding numbers and removing the smallest similarity\n",
    "        item = (similarity, verse1, verse2)\n",
    "        heapq.heappush(overall_top, item)\n",
    "\n",
    "        if len(overall_top) > 10:\n",
    "            heapq.heappop(overall_top)\n",
    "\n",
    "        item = (similarity, verse2)\n",
    "        heapq.heappush(verses_top[verse1], item)\n",
    "\n",
    "        if len(verses_top[verse1]) > 10:\n",
    "            heapq.heappop(verses_top[verse1])\n",
    "\n",
    "        item = (similarity, verse1)\n",
    "        heapq.heappush(verses_top[verse2], item)\n",
    "\n",
    "        if len(verses_top[verse2]) > 10:\n",
    "            heapq.heappop(verses_top[verse2])\n",
    "\n",
    "        "
   ]
  },
  {
   "cell_type": "code",
   "execution_count": 10,
   "id": "edb2cf85",
   "metadata": {},
   "outputs": [],
   "source": [
    "import pandas as pd"
   ]
  },
  {
   "cell_type": "code",
   "execution_count": 12,
   "id": "97859649",
   "metadata": {},
   "outputs": [
    {
     "name": "stdout",
     "output_type": "stream",
     "text": [
      "0.6882215142250061\n",
      "-0.09599751234054565\n",
      "0.6882215142250061\n",
      "Galatians 5:5  For we through the Spirit wait for the hope of righteousness by faith. \n",
      "\n",
      "Psalms 33:20  Our soul waiteth for the LORD: he is our help and our shield. \n",
      "\n",
      "\n",
      "0.6505152583122253\n",
      "Deuteronomy 11:27  A blessing, if ye obey the commandments of the LORD your God, which I command you this day: \n",
      "\n",
      "Jeremiah 7:23  But this thing commanded I them, saying, Obey my voice, and I will be your God, and ye shall be my people: and walk ye in all the ways that I have commanded you, that it may be well unto you. \n",
      "\n",
      "\n",
      "0.6193944215774536\n",
      "Psalms 5:12  For thou, LORD, wilt bless the righteous; with favour wilt thou compass him as with a shield. \n",
      "\n",
      "Psalms 33:20  Our soul waiteth for the LORD: he is our help and our shield. \n",
      "\n",
      "\n",
      "0.6137830018997192\n",
      "Deuteronomy 11:27  A blessing, if ye obey the commandments of the LORD your God, which I command you this day: \n",
      "\n",
      "Psalms 104:35  Let the sinners be consumed out of the earth, and let the wicked be no more. Bless thou the LORD, O my soul. Praise ye the LORD. \n",
      "\n",
      "\n",
      "0.6109811067581177\n",
      "Psalms 85:2  Thou hast forgiven the iniquity of thy people, thou hast covered all their sin. Selah. \n",
      "\n",
      "Psalms 32:7  Thou art my hiding place; thou shalt preserve me from trouble; thou shalt compass me about with songs of deliverance. Selah. \n",
      "\n",
      "\n",
      "0.607269823551178\n",
      "Ezekiel 34:14  I will feed them in a good pasture, and upon the high mountains of Israel shall their fold be: there shall they lie in a good fold, and in a fat pasture shall they feed upon the mountains of Israel. \n",
      "\n",
      "Isaiah 30:23  Then shall he give the rain of thy seed, that thou shalt sow the ground withal; and bread of the increase of the earth, and it shall be fat and plenteous: in that day shall thy cattle feed in large pastures. \n",
      "\n",
      "\n",
      "0.6072420477867126\n",
      "Ezra 6:3  In the first year of Cyrus the king the same Cyrus the king made a decree concerning the house of God at Jerusalem, Let the house be builded, the place where they offered sacrifices, and let the foundations thereof be strongly laid; the height thereof threescore cubits, and the breadth thereof threescore cubits; \n",
      "\n",
      "Ezra 4:3  But Zerubbabel, and Jeshua, and the rest of the chief of the fathers of Israel, said unto them, Ye have nothing to do with us to build an house unto our God; but we ourselves together will build unto the LORD God of Israel, as king Cyrus the king of Persia hath commanded us. \n",
      "\n",
      "\n",
      "0.6009311676025391\n",
      "Psalms 44:23  Awake, why sleepest thou, O Lord? arise, cast us not off for ever. \n",
      "\n",
      "Proverbs 6:9  How long wilt thou sleep, O sluggard? when wilt thou arise out of thy sleep? \n",
      "\n",
      "\n",
      "0.5828622579574585\n",
      "Luke 5:10  And so was also James, and John, the sons of Zebedee, which were partners with Simon. And Jesus said unto Simon, Fear not; from henceforth thou shalt catch men. \n",
      "\n",
      "1 Kings 1:10  But Nathan the prophet, and Benaiah, and the mighty men, and Solomon his brother, he called not. \n",
      "\n",
      "\n",
      "0.5827344059944153\n",
      "Psalms 85:2  Thou hast forgiven the iniquity of thy people, thou hast covered all their sin. Selah. \n",
      "\n",
      "2 Timothy 4:5  But watch thou in all things, endure afflictions, do the work of an evangelist, make full proof of thy ministry. \n",
      "\n",
      "\n"
     ]
    }
   ],
   "source": [
    "# putting the results into a DataFrame\n",
    "print(greatest_similarity)\n",
    "print(smallest_similarity)\n",
    "\n",
    "\n",
    "for item in reversed(sorted(overall_top)):\n",
    "    print(item[0])\n",
    "    print(f\"{item[1]}  {sample_data.loc[sample_data['citation'] == item[1], 'text'].values[0]}\")\n",
    "    print(f\"{item[2]}  {sample_data.loc[sample_data['citation'] == item[2], 'text'].values[0]}\")\n",
    "    print()\n"
   ]
  }
 ],
 "metadata": {
  "kernelspec": {
   "display_name": "Python 3",
   "language": "python",
   "name": "python3"
  },
  "language_info": {
   "codemirror_mode": {
    "name": "ipython",
    "version": 3
   },
   "file_extension": ".py",
   "mimetype": "text/x-python",
   "name": "python",
   "nbconvert_exporter": "python",
   "pygments_lexer": "ipython3",
   "version": "3.12.1"
  }
 },
 "nbformat": 4,
 "nbformat_minor": 5
}
