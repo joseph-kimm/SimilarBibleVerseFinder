{
 "cells": [
  {
   "cell_type": "code",
   "execution_count": null,
   "id": "685672b0",
   "metadata": {},
   "outputs": [],
   "source": [
    "import pandas as pd\n",
    "import random\n",
    "import csv"
   ]
  },
  {
   "cell_type": "code",
   "execution_count": null,
   "id": "4d941c7e",
   "metadata": {},
   "outputs": [],
   "source": [
    "data1 = pd.read_csv('datasets/bible_data_set.csv')\n",
    "data2 = pd.read_csv('t_kjv.csv')\n",
    "\n"
   ]
  },
  {
   "cell_type": "code",
   "execution_count": 1,
   "id": "e58251bb",
   "metadata": {},
   "outputs": [
    {
     "name": "stdout",
     "output_type": "stream",
     "text": [
      "The byte size of 'Genesis 1:1' is: 11 bytes\n"
     ]
    }
   ],
   "source": [
    "my_string_ascii = \"Genesis 1:1\"\n",
    "byte_size_ascii = len(my_string_ascii.encode('utf-8'))\n",
    "print(f\"The byte size of '{my_string_ascii}' is: {byte_size_ascii} bytes\")"
   ]
  }
 ],
 "metadata": {
  "kernelspec": {
   "display_name": "Python 3",
   "language": "python",
   "name": "python3"
  },
  "language_info": {
   "codemirror_mode": {
    "name": "ipython",
    "version": 3
   },
   "file_extension": ".py",
   "mimetype": "text/x-python",
   "name": "python",
   "nbconvert_exporter": "python",
   "pygments_lexer": "ipython3",
   "version": "3.12.1"
  }
 },
 "nbformat": 4,
 "nbformat_minor": 5
}
