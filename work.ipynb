{
 "cells": [
  {
   "cell_type": "code",
   "execution_count": 1,
   "id": "685672b0",
   "metadata": {},
   "outputs": [],
   "source": [
    "import pandas as pd\n",
    "import random\n",
    "import csv"
   ]
  },
  {
   "cell_type": "code",
   "execution_count": 23,
   "id": "4d941c7e",
   "metadata": {},
   "outputs": [
    {
     "name": "stdout",
     "output_type": "stream",
     "text": [
      "31102\n",
      "31102\n",
      "        id  b  c  v                                                  t\n",
      "0  1001001  1  1  1  In the beginning God created the heaven and th...\n",
      "1  1001002  1  1  2  And the earth was without form, and void; and ...\n",
      "2  1001003  1  1  3  And God said, Let there be light: and there wa...\n",
      "3  1001004  1  1  4  And God saw the light, that it was good: and G...\n",
      "4  1001005  1  1  5  And God called the light Day, and the darkness...\n",
      "      citation     book  chapter  verse  \\\n",
      "0  Genesis 1:1  Genesis        1      1   \n",
      "1  Genesis 1:2  Genesis        1      2   \n",
      "2  Genesis 1:3  Genesis        1      3   \n",
      "3  Genesis 1:4  Genesis        1      4   \n",
      "4  Genesis 1:5  Genesis        1      5   \n",
      "\n",
      "                                                text  \n",
      "0  In the beginning God created the heaven and th...  \n",
      "1  And the earth was without form, and void; and ...  \n",
      "2  And God said, Let there be light: and there wa...  \n",
      "3  And God saw the light, that it was good: and G...  \n",
      "4  And God called the light Day, and the darkness...  \n",
      "In the beginning God created the heaven and the earth.\n",
      "In the beginning God created the heaven and the earth. \n",
      "\n"
     ]
    }
   ],
   "source": [
    "data1 = pd.read_csv('datasets/bible_data_set.csv')\n",
    "data2 = pd.read_csv('datasets/t_kjv.csv')\n",
    "\n",
    "print(len(data1))\n",
    "print(len(data2))\n",
    "print(data2.head())\n",
    "print(data1.head())\n",
    "print(data2.iloc[0,4])   \n",
    "print(data1.iloc[0,4])\n"
   ]
  },
  {
   "cell_type": "code",
   "execution_count": 27,
   "id": "9a8b0d89",
   "metadata": {},
   "outputs": [],
   "source": [
    "data1['id'] = data2['id']\n",
    "data1['book_number'] = data2['b']\n"
   ]
  },
  {
   "cell_type": "code",
   "execution_count": 30,
   "id": "3e8c60cf",
   "metadata": {},
   "outputs": [],
   "source": [
    "col_to_move = 'book_number'\n",
    "col_data = data1.pop(col_to_move)\n",
    "data1.insert(3, col_to_move, col_data)\n"
   ]
  },
  {
   "cell_type": "code",
   "execution_count": 32,
   "id": "c87d0fa2",
   "metadata": {},
   "outputs": [],
   "source": [
    "data1.head()\n",
    "data1.to_csv('datasets/bible_data.csv', index=False)"
   ]
  },
  {
   "cell_type": "code",
   "execution_count": 1,
   "id": "e58251bb",
   "metadata": {},
   "outputs": [
    {
     "name": "stdout",
     "output_type": "stream",
     "text": [
      "The byte size of 'Genesis 1:1' is: 11 bytes\n"
     ]
    }
   ],
   "source": [
    "my_string_ascii = \"Genesis 1:1\"\n",
    "byte_size_ascii = len(my_string_ascii.encode('utf-8'))\n",
    "print(f\"The byte size of '{my_string_ascii}' is: {byte_size_ascii} bytes\")"
   ]
  }
 ],
 "metadata": {
  "kernelspec": {
   "display_name": "Python 3",
   "language": "python",
   "name": "python3"
  },
  "language_info": {
   "codemirror_mode": {
    "name": "ipython",
    "version": 3
   },
   "file_extension": ".py",
   "mimetype": "text/x-python",
   "name": "python",
   "nbconvert_exporter": "python",
   "pygments_lexer": "ipython3",
   "version": "3.12.1"
  }
 },
 "nbformat": 4,
 "nbformat_minor": 5
}
