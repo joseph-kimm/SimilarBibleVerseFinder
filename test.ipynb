{
 "cells": [
  {
   "cell_type": "markdown",
   "id": "786e4d9f",
   "metadata": {},
   "source": [
    "# Playing with the DataSet"
   ]
  },
  {
   "cell_type": "markdown",
   "id": "7c8ebe9f",
   "metadata": {},
   "source": [
    "### Creating Sample File"
   ]
  },
  {
   "cell_type": "code",
   "execution_count": 6,
   "id": "db129013",
   "metadata": {},
   "outputs": [],
   "source": [
    "import pandas as pd\n",
    "import random\n",
    "import csv"
   ]
  },
  {
   "cell_type": "code",
   "execution_count": 7,
   "id": "a0df278e",
   "metadata": {},
   "outputs": [],
   "source": [
    "bible_data = pd.read_csv('datasets/bible_data_set.csv')\n",
    "size = len(bible_data)\n",
    "\n",
    "random_indices = random.sample(range(size), 100)\n",
    "\n",
    "sample_data = bible_data.iloc[random_indices]\n",
    "sample_data.to_csv('datasets/sample_bible_data.csv', index=False, quoting=csv.QUOTE_NONNUMERIC)"
   ]
  },
  {
   "cell_type": "code",
   "execution_count": 8,
   "id": "a2408077",
   "metadata": {},
   "outputs": [
    {
     "name": "stdout",
     "output_type": "stream",
     "text": [
      "           citation          book  chapter  verse  \\\n",
      "0         Nahum 1:8         Nahum        1      8   \n",
      "1         Luke 5:11          Luke        5     11   \n",
      "2     Jeremiah 44:7      Jeremiah       44      7   \n",
      "3     Numbers 15:16       Numbers       15     16   \n",
      "4  2 Chronicles 1:9  2 Chronicles        1      9   \n",
      "\n",
      "                                                text  \n",
      "0  But with an overrunning flood he will make an ...  \n",
      "1  And when they had brought their ships to land,...  \n",
      "2  Therefore now thus saith the LORD, the God of ...  \n",
      "3  One law and one manner shall be for you, and f...  \n",
      "4  Now, O LORD God, let thy promise unto David my...  \n"
     ]
    }
   ],
   "source": [
    "sample_data = pd.read_csv('datasets/sample_bible_data.csv')\n",
    "print(sample_data.head())"
   ]
  },
  {
   "cell_type": "markdown",
   "id": "311f9dbd",
   "metadata": {},
   "source": [
    "### Creating sentence embedding"
   ]
  },
  {
   "cell_type": "markdown",
   "id": "a83ed4d5",
   "metadata": {},
   "source": [
    "We are not going to care about efficiency, but just do it\n",
    "Because there is already a library called SentenceTransformer, we are not going to be bothered using deBERTa. If we need to do more customizing, we can always do it later."
   ]
  },
  {
   "cell_type": "code",
   "execution_count": 9,
   "id": "0975aa21",
   "metadata": {},
   "outputs": [],
   "source": [
    "from transformers import AutoTokenizer, AutoModel\n",
    "import torch\n",
    "from sentence_transformers import SentenceTransformer"
   ]
  },
  {
   "cell_type": "code",
   "execution_count": null,
   "id": "76ffcb7d",
   "metadata": {},
   "outputs": [
    {
     "name": "stderr",
     "output_type": "stream",
     "text": [
      "/home/codespace/.local/lib/python3.12/site-packages/torch/nn/modules/module.py:1762: FutureWarning: `encoder_attention_mask` is deprecated and will be removed in version 4.55.0 for `BertSdpaSelfAttention.forward`.\n",
      "  return forward_call(*args, **kwargs)\n"
     ]
    }
   ],
   "source": [
    "model = SentenceTransformer('all-MiniLM-L12-v2')\n",
    "embeddings = model.encode(sample_data['text'])"
   ]
  },
  {
   "cell_type": "code",
   "execution_count": 19,
   "id": "18d1dea8",
   "metadata": {},
   "outputs": [
    {
     "name": "stdout",
     "output_type": "stream",
     "text": [
      "0.326152503490448\n",
      "Luke 5:11\n"
     ]
    }
   ],
   "source": [
    "print(float(model.similarity(embeddings[0], embeddings[1])))\n",
    "print(sample_data['citation'][1])"
   ]
  },
  {
   "cell_type": "markdown",
   "id": "cb5cf4e2",
   "metadata": {},
   "source": [
    "### Using Sentence Embedding to compare each other"
   ]
  },
  {
   "cell_type": "code",
   "execution_count": 21,
   "id": "428296ad",
   "metadata": {},
   "outputs": [],
   "source": [
    "import heapq"
   ]
  },
  {
   "cell_type": "code",
   "execution_count": null,
   "id": "02c34460",
   "metadata": {},
   "outputs": [],
   "source": [
    "# we are going to store top 10 similar verses for each verse\n",
    "# also save top 100 similar verses in a list\n",
    "verses_top10 = dict.fromkeys(sample_data['citation'], [])\n",
    "overall_top10 = []"
   ]
  },
  {
   "cell_type": "code",
   "execution_count": null,
   "id": "5dce6049",
   "metadata": {},
   "outputs": [],
   "source": [
    "# comparing each verse with every other verse\n",
    "for i in range(len(sample_data)):\n",
    "    for j in range(i + 1, len(sample_data)):\n",
    "        similarity = float(model.similarity(embeddings[i], embeddings[j]))\n",
    "\n",
    "        verse1 = sample_data['citation'][i]\n",
    "        verse2 = sample_data['citation'][j]\n",
    "\n",
    "        item = (-similarity, verse1, verse2)\n",
    "        heapq.heappush(top10_overall, item)\n",
    "\n",
    "        if len(top100) > 100:\n",
    "            heapq.heappop(top10_overall)\n",
    "\n",
    "        item = (-similarity, verse2)\n",
    "        heapq.heappush(top10[verse1], item)\n",
    "        item = (-similarity, verse1, verse2)\n",
    "        item = (-similarity, verse1)\n",
    "        heapq.heappush(top10[verse2], item)\n",
    "\n",
    "        "
   ]
  },
  {
   "cell_type": "code",
   "execution_count": 23,
   "id": "edb2cf85",
   "metadata": {},
   "outputs": [],
   "source": [
    "import pandas as pd"
   ]
  },
  {
   "cell_type": "code",
   "execution_count": 27,
   "id": "97859649",
   "metadata": {},
   "outputs": [
    {
     "name": "stdout",
     "output_type": "stream",
     "text": [
      "4950\n"
     ]
    }
   ],
   "source": [
    "# putting the results into a DataFrame\n",
    "print(len(top100))"
   ]
  }
 ],
 "metadata": {
  "kernelspec": {
   "display_name": "Python 3",
   "language": "python",
   "name": "python3"
  },
  "language_info": {
   "codemirror_mode": {
    "name": "ipython",
    "version": 3
   },
   "file_extension": ".py",
   "mimetype": "text/x-python",
   "name": "python",
   "nbconvert_exporter": "python",
   "pygments_lexer": "ipython3",
   "version": "3.12.1"
  }
 },
 "nbformat": 4,
 "nbformat_minor": 5
}
