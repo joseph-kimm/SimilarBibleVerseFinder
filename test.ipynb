{
 "cells": [
  {
   "cell_type": "markdown",
   "id": "786e4d9f",
   "metadata": {},
   "source": [
    "# Playing with the DataSet"
   ]
  },
  {
   "cell_type": "markdown",
   "id": "7c8ebe9f",
   "metadata": {},
   "source": [
    "### Creating Sample File"
   ]
  },
  {
   "cell_type": "code",
   "execution_count": 4,
   "id": "db129013",
   "metadata": {},
   "outputs": [],
   "source": [
    "import pandas as pd\n",
    "import random\n",
    "import csv"
   ]
  },
  {
   "cell_type": "code",
   "execution_count": 5,
   "id": "a0df278e",
   "metadata": {},
   "outputs": [],
   "source": [
    "bible_data = pd.read_csv('datasets/bible_data_set.csv')\n",
    "size = len(bible_data)\n",
    "\n",
    "random_indices = random.sample(range(size), 100)\n",
    "\n",
    "sample_data = bible_data.iloc[random_indices]\n",
    "sample_data.to_csv('datasets/sample_bible_data.csv', index=False, quoting=csv.QUOTE_NONNUMERIC)"
   ]
  },
  {
   "cell_type": "code",
   "execution_count": 6,
   "id": "a2408077",
   "metadata": {},
   "outputs": [
    {
     "name": "stdout",
     "output_type": "stream",
     "text": [
      "         citation      book  chapter  verse  \\\n",
      "0    Hebrews 3:14   Hebrews        3     14   \n",
      "1   Matthew 13:11   Matthew       13     11   \n",
      "2  Proverbs 18:16  Proverbs       18     16   \n",
      "3      James 2:11     James        2     11   \n",
      "4   Matthew 15:31   Matthew       15     31   \n",
      "\n",
      "                                                text  \n",
      "0  For we are made partakers of Christ, if we hol...  \n",
      "1  He answered and said unto them, Because it is ...  \n",
      "2  A man's gift maketh room for him, and bringeth...  \n",
      "3  For he that said, Do not commit adultery, said...  \n",
      "4  Insomuch that the multitude wondered, when the...  \n"
     ]
    }
   ],
   "source": [
    "sample_data = pd.read_csv('datasets/sample_bible_data.csv')\n",
    "print(sample_data.head())"
   ]
  },
  {
   "cell_type": "markdown",
   "id": "311f9dbd",
   "metadata": {},
   "source": [
    "### Creating sentence embedding"
   ]
  },
  {
   "cell_type": "markdown",
   "id": "a83ed4d5",
   "metadata": {},
   "source": [
    "We are not going to care about efficiency, but just do it\n",
    "Because there is already a library called SentenceTransformer, we are not going to be bothered using deBERTa. If we need to do more customizing, we can always do it later."
   ]
  },
  {
   "cell_type": "code",
   "execution_count": 7,
   "id": "0975aa21",
   "metadata": {},
   "outputs": [
    {
     "name": "stderr",
     "output_type": "stream",
     "text": [
      "/usr/local/python/3.12.1/lib/python3.12/site-packages/tqdm/auto.py:21: TqdmWarning: IProgress not found. Please update jupyter and ipywidgets. See https://ipywidgets.readthedocs.io/en/stable/user_install.html\n",
      "  from .autonotebook import tqdm as notebook_tqdm\n"
     ]
    }
   ],
   "source": [
    "from transformers import AutoTokenizer, AutoModel\n",
    "import torch\n",
    "from sentence_transformers import SentenceTransformer\n",
    "import numpy as np"
   ]
  },
  {
   "cell_type": "code",
   "execution_count": null,
   "id": "76ffcb7d",
   "metadata": {},
   "outputs": [
    {
     "name": "stderr",
     "output_type": "stream",
     "text": [
      "/home/codespace/.local/lib/python3.12/site-packages/torch/nn/modules/module.py:1762: FutureWarning: `encoder_attention_mask` is deprecated and will be removed in version 4.55.0 for `BertSdpaSelfAttention.forward`.\n",
      "  return forward_call(*args, **kwargs)\n"
     ]
    }
   ],
   "source": [
    "model = SentenceTransformer('all-MiniLM-L12-v2')\n",
    "embeddings = np.array(model.encode(sample_data['text']))\n",
    "\n",
    "# saving the numbers so it can be loaded up easily later\n",
    "np.save('datasets/sample_bible_embeddings.npy', embeddings)"
   ]
  },
  {
   "cell_type": "code",
   "execution_count": 16,
   "id": "18d1dea8",
   "metadata": {},
   "outputs": [
    {
     "name": "stdout",
     "output_type": "stream",
     "text": [
      "-0.31170448660850525\n",
      "Matthew 13:11\n"
     ]
    }
   ],
   "source": [
    "print(-float(model.similarity(embeddings[0], embeddings[1])))\n",
    "print(sample_data['citation'][1])"
   ]
  },
  {
   "cell_type": "markdown",
   "id": "cb5cf4e2",
   "metadata": {},
   "source": [
    "### Using Sentence Embedding to compare each other"
   ]
  },
  {
   "cell_type": "code",
   "execution_count": 35,
   "id": "428296ad",
   "metadata": {},
   "outputs": [],
   "source": [
    "import heapq\n",
    "from collections import defaultdict"
   ]
  },
  {
   "cell_type": "code",
   "execution_count": null,
   "id": "02c34460",
   "metadata": {},
   "outputs": [
    {
     "name": "stdout",
     "output_type": "stream",
     "text": [
      "defaultdict(<class 'list'>, {})\n"
     ]
    }
   ],
   "source": [
    "# we are going to store top 10 similar verses for each verse\n",
    "# also save top 100 similar verses in a list\n",
    "\n",
    "# make sure that a separate list is created for each verse\n",
    "verses_top = defaultdict(list)\n",
    "overall_top = []\n",
    "\n",
    "print(verses_top)\n",
    "\n",
    "embeddings = np.load('datasets/sample_bible_embeddings.npy')"
   ]
  },
  {
   "cell_type": "code",
   "execution_count": 37,
   "id": "5dce6049",
   "metadata": {},
   "outputs": [],
   "source": [
    "greatest_similarity = -1.0\n",
    "\n",
    "# comparing each verse with every other verse\n",
    "for i in range(len(sample_data)):\n",
    "\n",
    "    verse1 = sample_data['citation'][i]\n",
    "\n",
    "    for j in range(i + 1, len(sample_data)):\n",
    "        similarity = float(model.similarity(embeddings[i], embeddings[j]))\n",
    "\n",
    "        verse2 = sample_data['citation'][j]\n",
    "\n",
    "        greatest_similarity = max(greatest_similarity, similarity)\n",
    "\n",
    "        # we keep adding numbers and removing the smallest similarity\n",
    "        item = (similarity, verse1, verse2)\n",
    "        heapq.heappush(overall_top, item)\n",
    "\n",
    "        if len(overall_top) > 10:\n",
    "            heapq.heappop(overall_top)\n",
    "\n",
    "        item = (similarity, verse2)\n",
    "        heapq.heappush(verses_top[verse1], item)\n",
    "\n",
    "        if len(verses_top[verse1]) > 10:\n",
    "            heapq.heappop(verses_top[verse1])\n",
    "\n",
    "        item = (similarity, verse1)\n",
    "        heapq.heappush(verses_top[verse2], item)\n",
    "\n",
    "        if len(verses_top[verse2]) > 10:\n",
    "            heapq.heappop(verses_top[verse2])\n",
    "\n",
    "        "
   ]
  },
  {
   "cell_type": "code",
   "execution_count": 13,
   "id": "edb2cf85",
   "metadata": {},
   "outputs": [],
   "source": [
    "import pandas as pd"
   ]
  },
  {
   "cell_type": "code",
   "execution_count": 43,
   "id": "97859649",
   "metadata": {},
   "outputs": [
    {
     "name": "stdout",
     "output_type": "stream",
     "text": [
      "0.6832425594329834\n",
      "0.6832425594329834\n",
      "Matthew 21:20  And when the disciples saw it, they marvelled, saying, How soon is the fig tree withered away! \n",
      "\n",
      "John 1:48  Nathanael saith unto him, Whence knowest thou me? Jesus answered and said unto him, Before that Philip called thee, when thou wast under the fig tree, I saw thee. \n",
      "\n",
      "\n",
      "0.6162037253379822\n",
      "Ezekiel 22:15  And I will scatter thee among the heathen, and disperse thee in the countries, and will consume thy filthiness out of thee. \n",
      "\n",
      "2 Samuel 22:50  Therefore I will give thanks unto thee, O LORD, among the heathen, and I will sing praises unto thy name. \n",
      "\n",
      "\n",
      "0.6031732559204102\n",
      "Ezekiel 22:15  And I will scatter thee among the heathen, and disperse thee in the countries, and will consume thy filthiness out of thee. \n",
      "\n",
      "Exodus 34:24  For I will cast out the nations before thee, and enlarge thy borders: neither shall any man desire thy land, when thou shalt go up to appear before the LORD thy God thrice in the year. \n",
      "\n",
      "\n",
      "0.5913217067718506\n",
      "Leviticus 7:14  And of it he shall offer one out of the whole oblation for an heave offering unto the LORD, and it shall be the priest's that sprinkleth the blood of the peace offerings. \n",
      "\n",
      "Leviticus 10:13  And ye shall eat it in the holy place, because it is thy due, and thy sons' due, of the sacrifices of the LORD made by fire: for so I am commanded. \n",
      "\n",
      "\n",
      "0.5887964367866516\n",
      "Acts 2:25  For David speaketh concerning him, I foresaw the Lord always before my face, for he is on my right hand, that I should not be moved: \n",
      "\n",
      "Jeremiah 22:24  As I live, saith the LORD, though Coniah the son of Jehoiakim king of Judah were the signet upon my right hand, yet would I pluck thee thence; \n",
      "\n",
      "\n",
      "0.5880289077758789\n",
      "Isaiah 27:13  And it shall come to pass in that day, that the great trumpet shall be blown, and they shall come which were ready to perish in the land of Assyria, and the outcasts in the land of Egypt, and shall worship the LORD in the holy mount at Jerusalem. \n",
      "\n",
      "Matthew 20:18  Behold, we go up to Jerusalem; and the Son of man shall be betrayed unto the chief priests and unto the scribes, and they shall condemn him to death, \n",
      "\n",
      "\n",
      "0.5792504549026489\n",
      "Ezekiel 34:10  Thus saith the Lord GOD; Behold, I am against the shepherds; and I will require my flock at their hand, and cause them to cease from feeding the flock; neither shall the shepherds feed themselves any more; for I will deliver my flock from their mouth, that they may not be meat for them. \n",
      "\n",
      "Zechariah 10:2  For the idols have spoken vanity, and the diviners have seen a lie, and have told false dreams; they comfort in vain: therefore they went their way as a flock, they were troubled, because there was no shepherd. \n",
      "\n",
      "\n",
      "0.5747221112251282\n",
      "Job 21:31  Who shall declare his way to his face? and who shall repay him what he hath done? \n",
      "\n",
      "Matthew 20:18  Behold, we go up to Jerusalem; and the Son of man shall be betrayed unto the chief priests and unto the scribes, and they shall condemn him to death, \n",
      "\n",
      "\n",
      "0.5739723443984985\n",
      "Luke 22:15  And he said unto them, With desire I have desired to eat this passover with you before I suffer: \n",
      "\n",
      "Leviticus 10:13  And ye shall eat it in the holy place, because it is thy due, and thy sons' due, of the sacrifices of the LORD made by fire: for so I am commanded. \n",
      "\n",
      "\n",
      "0.5737234950065613\n",
      "Isaiah 27:13  And it shall come to pass in that day, that the great trumpet shall be blown, and they shall come which were ready to perish in the land of Assyria, and the outcasts in the land of Egypt, and shall worship the LORD in the holy mount at Jerusalem. \n",
      "\n",
      "Joel 2:28  And it shall come to pass afterward, that I will pour out my spirit upon all flesh; and your sons and your daughters shall prophesy, your old men shall dream dreams, your young men shall see visions: \n",
      "\n",
      "\n"
     ]
    }
   ],
   "source": [
    "# putting the results into a DataFrame\n",
    "print(greatest_similarity)\n",
    "\n",
    "\n",
    "for item in reversed(sorted(overall_top)):\n",
    "    print(item[0])\n",
    "    print(f\"{item[1]}  {sample_data.loc[sample_data['citation'] == item[1], 'text'].values[0]}\")\n",
    "    print(f\"{item[2]}  {sample_data.loc[sample_data['citation'] == item[2], 'text'].values[0]}\")\n",
    "    print()\n"
   ]
  }
 ],
 "metadata": {
  "kernelspec": {
   "display_name": "Python 3",
   "language": "python",
   "name": "python3"
  },
  "language_info": {
   "codemirror_mode": {
    "name": "ipython",
    "version": 3
   },
   "file_extension": ".py",
   "mimetype": "text/x-python",
   "name": "python",
   "nbconvert_exporter": "python",
   "pygments_lexer": "ipython3",
   "version": "3.12.1"
  }
 },
 "nbformat": 4,
 "nbformat_minor": 5
}
